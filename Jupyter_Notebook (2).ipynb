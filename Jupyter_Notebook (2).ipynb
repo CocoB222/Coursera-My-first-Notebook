{
 "cells": [
  {
   "cell_type": "markdown",
   "metadata": {},
   "source": [
    "<center>\n",
    "    <img src=\"https://cf-courses-data.s3.us.cloud-object-storage.appdomain.cloud/IBMDeveloperSkillsNetwork-DS0105EN-SkillsNetwork/labs/Module2/images/SN_web_lightmode.png\" width=\"300\" alt=\"cognitiveclass.ai logo\">\n",
    "</center>\n"
   ]
  },
  {
   "cell_type": "markdown",
   "metadata": {},
   "source": [
    "#### Add your code below following the instructions given in the course\n"
   ]
  },
  {
   "cell_type": "markdown",
   "metadata": {},
   "source": [
    "# Titel: My First Notebook"
   ]
  },
  {
   "cell_type": "markdown",
   "metadata": {
    "tags": []
   },
   "source": [
    "## Introduction"
   ]
  },
  {
   "cell_type": "markdown",
   "metadata": {},
   "source": [
    "This is an introduction to my first notebook."
   ]
  },
  {
   "cell_type": "markdown",
   "metadata": {
    "tags": []
   },
   "source": [
    "## Data science languages"
   ]
  },
  {
   "cell_type": "markdown",
   "metadata": {},
   "source": [
    "Some of the popular languages that Data Scientists use are:\n",
    "\n",
    "1. Python\n",
    "2. R\n",
    "3. SQL\n",
    "4. Julia\n",
    "5. Scala"
   ]
  },
  {
   "cell_type": "markdown",
   "metadata": {
    "tags": []
   },
   "source": [
    "## Data Science Libraries"
   ]
  },
  {
   "cell_type": "markdown",
   "metadata": {
    "tags": []
   },
   "source": [
    "Some of the commonly used libraries used by Data Scientists include:\n",
    "\n",
    "- **Python:**\n",
    "  - NumPy\n",
    "  - Pandas\n",
    "  - Matplotlib\n",
    "  - Seaborn\n",
    "  - Scikit-learn\n",
    "  - TensorFlow\n",
    "  - Keras\n",
    "\n",
    "- **R:**\n",
    "  - ggplot2\n",
    "  - dplyr\n",
    "  - caret\n",
    "  - tidyr\n",
    "  - lubridate\n",
    "\n",
    "- **SQL:**\n",
    "  - SQLAlchemy\n",
    "  - Pandasql\n",
    "\n",
    "- **Julia:**\n",
    "  - DataFrames\n",
    "  - Gadfly"
   ]
  },
  {
   "cell_type": "markdown",
   "metadata": {
    "tags": []
   },
   "source": [
    "## Data Science Tools"
   ]
  },
  {
   "cell_type": "markdown",
   "metadata": {},
   "source": [
    "| Data Science Tools |\n",
    "|--------------------|\n",
    "| Jupyter Notebook   |\n",
    "| RStudio            |\n",
    "| VS Code            |\n"
   ]
  },
  {
   "cell_type": "markdown",
   "metadata": {
    "tags": []
   },
   "source": [
    "## Arithmetic Expression Examples"
   ]
  },
  {
   "cell_type": "markdown",
   "metadata": {},
   "source": [
    "Arithmetic expressions are mathematical expressions that involve numbers and operators such as addition, subtraction, multiplication, and division. These expressions are commonly used in programming to perform calculations and manipulate numerical data. Below are some examples of arithmetic expressions:\n",
    "\n",
    "1. **Addition:** Adding two numbers together.\n",
    "   - Example: `2 + 3 = 5`\n",
    "\n",
    "2. **Subtraction:** Subtracting one number from another.\n",
    "   - Example: `10 - 4 = 6`\n",
    "\n",
    "3. **Multiplication:** Multiplying two numbers.\n",
    "   - Example: `5 * 8 = 40`\n",
    "\n",
    "4. **Division:** Dividing one number by another.\n",
    "   - Example: `20 / 4 = 5`\n",
    "\n",
    "5. **Exponentiation:** Raising a number to a power.\n",
    "   - Example: `2^3 = 8`\n",
    "\n",
    "6. **Modulus:** Finding the remainder of a division.\n",
    "   - Example: `10 % 3 = 1` (remainder when 10 is divided by 3)\n",
    "\n",
    "Arithmetic expressions can also include parentheses to control the order of operations, just like in algebra. For example:\n",
    "\n",
    "- `(3 + 4) * 2 = 14` (the sum of 3 and 4 is multiplied by 2)"
   ]
  },
  {
   "cell_type": "code",
   "execution_count": 1,
   "metadata": {
    "tags": []
   },
   "outputs": [
    {
     "name": "stdout",
     "output_type": "stream",
     "text": [
      "Multiplication Result: 35\n",
      "Addition Result: 12\n"
     ]
    }
   ],
   "source": [
    "# Define the numbers\n",
    "num1 = 5\n",
    "num2 = 7\n",
    "\n",
    "# Perform multiplication\n",
    "product = num1 * num2\n",
    "\n",
    "# Perform addition\n",
    "sum = num1 + num2\n",
    "\n",
    "# Print the results\n",
    "print(\"Multiplication Result:\", product)\n",
    "print(\"Addition Result:\", sum)\n"
   ]
  },
  {
   "cell_type": "code",
   "execution_count": 2,
   "metadata": {
    "tags": []
   },
   "outputs": [
    {
     "name": "stdout",
     "output_type": "stream",
     "text": [
      "150 minutes is equal to 2.5 hours.\n"
     ]
    }
   ],
   "source": [
    "# Define the number of minutes\n",
    "minutes = 150\n",
    "\n",
    "# Convert minutes to hours\n",
    "hours = minutes / 60\n",
    "\n",
    "# Print the result\n",
    "print(minutes, \"minutes is equal to\", hours, \"hours.\")"
   ]
  },
  {
   "cell_type": "markdown",
   "metadata": {
    "tags": []
   },
   "source": [
    "## Objectives\n"
   ]
  },
  {
   "cell_type": "markdown",
   "metadata": {},
   "source": [
    "- Understand basic arithmetic operations in Python.\n",
    "- Learn how to use Python for simple calculations.\n",
    "- Practice converting units of time.\n",
    "- Explore markdown language for formatting text.\n"
   ]
  },
  {
   "cell_type": "markdown",
   "metadata": {
    "tags": []
   },
   "source": [
    "## Author\n",
    "\n",
    "- Created by Cornel Bienz\n"
   ]
  },
  {
   "cell_type": "code",
   "execution_count": null,
   "metadata": {},
   "outputs": [],
   "source": []
  }
 ],
 "metadata": {
  "kernelspec": {
   "display_name": "Python",
   "language": "python",
   "name": "conda-env-python-py"
  },
  "language_info": {
   "codemirror_mode": {
    "name": "ipython",
    "version": 3
   },
   "file_extension": ".py",
   "mimetype": "text/x-python",
   "name": "python",
   "nbconvert_exporter": "python",
   "pygments_lexer": "ipython3",
   "version": "3.7.12"
  }
 },
 "nbformat": 4,
 "nbformat_minor": 4
}
